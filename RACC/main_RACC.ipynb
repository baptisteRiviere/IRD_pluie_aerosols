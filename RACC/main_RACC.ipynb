{
 "cells": [
  {
   "cell_type": "markdown",
   "metadata": {},
   "source": [
    "# framework RACC\n",
    "\n",
    "Ce framework a pour objectif de mettre en place la méthode RACC sur des données MO (SSMIS) et IR (Meteosat)\n",
    "Les changements à faire dans le code sont marqués par le mot clé TODO"
   ]
  },
  {
   "cell_type": "markdown",
   "metadata": {},
   "source": [
    "## imports"
   ]
  },
  {
   "cell_type": "code",
   "execution_count": 2,
   "metadata": {},
   "outputs": [],
   "source": [
    "# reloading \n",
    "%load_ext autoreload\n",
    "%autoreload 2\n",
    "\n",
    "# importing librairies\n",
    "import numpy as np\n",
    "import matplotlib.pyplot as plt\n",
    "from datetime import datetime, date, timedelta\n",
    "from scipy.stats import pearsonr, spearmanr\n",
    "\n",
    "import json\n",
    "import glob\n",
    "import sys\n",
    "import warnings\n",
    "import os\n",
    "\n",
    "# importing modules from RACC directory\n",
    "from classification import classification\n",
    "import ground_truth as gt\n",
    "\n",
    "# importing modules from Images\n",
    "sys.path.insert(0, r'../Images')\n",
    "from Image import Image\n",
    "from File import File\n",
    "from Geotiff_Format import Geotiff_Format\n",
    "\n",
    "# importing meteosat API modules\n",
    "sys.path.insert(0, r'API_meteosat')\n",
    "from eds_get_nearest import search_nearest,download_dataset\n",
    "sys.path.insert(0, r'API_nsidc')\n",
    "from SSMIS_download import download_Meteosat_images"
   ]
  },
  {
   "cell_type": "markdown",
   "metadata": {},
   "source": [
    "## Initialisation des variables principales\n",
    "\n",
    "On définit les chemins d'accès principaux afin d'obtenir les variables utiles dans tout le code"
   ]
  },
  {
   "cell_type": "code",
   "execution_count": 3,
   "metadata": {},
   "outputs": [],
   "source": [
    "def get_index(index_path):\n",
    "    with open(index_path, \"r\", encoding=\"utf-8\") as json_dict:\n",
    "        index = json.load(json_dict)\n",
    "    return index\n",
    "    \n",
    "def save_index(index,index_path):\n",
    "    with open(index_path, 'w', encoding=\"utf-8\") as json_dict:\n",
    "        json.dump(index, json_dict, indent=4, default=str)\n",
    "        \n",
    "def make_directory(path):\n",
    "    if not os.path.exists(path):\n",
    "        os.makedirs(path)\n",
    "    return path"
   ]
  },
  {
   "cell_type": "code",
   "execution_count": 4,
   "metadata": {},
   "outputs": [],
   "source": [
    "# TODO : remplir le chemin d'accès au dossier principal où tous les fichiers seront générés\n",
    "main_dir = make_directory(r\"../../data/RACC/dec_2020\")\n",
    "\n",
    "# TODO : remplir le chemin d'accès au fichier json contenant les dates et leurs différents attributs\n",
    "index_path = main_dir + r\"/acq_dates.json\"\n",
    "\n",
    "# TODO : remplir le chemin d'accès au fichier json contenant les paramètres de la projection comme la résolution et l'emprise\n",
    "projection_path = r\"../../data/param_proj/param_guy.json\"\n",
    "\n",
    "# TODO : compléter les dates visées dans le format suivant\n",
    "target_dates = [\n",
    "    \"2020-12-01T20:00:00.000000+0000\",\n",
    "    \"2020-12-05T20:00:00.000000+0000\",\n",
    "    \"2020-12-08T16:00:00.000000+0000\",\n",
    "    \"2020-12-09T12:00:00.000000+0000\",\n",
    "    \"2020-12-11T12:00:00.000000+0000\",\n",
    "    \"2020-12-12T12:00:00.000000+0000\",\n",
    "    \"2020-12-15T06:00:00.000000+0000\",\n",
    "    \"2020-12-17T12:00:00.000000+0000\",\n",
    "    \"2020-12-19T12:00:00.000000+0000\",\n",
    "    \"2020-12-20T06:00:00.000000+0000\",\n",
    "    \"2020-12-24T12:00:00.000000+0000\",\n",
    "    \"2020-12-29T12:00:00.000000+0000\",\n",
    "    \"2020-12-30T02:00:00.000000+0000\"\n",
    "]\n",
    "\n",
    "projection = json.load(open(projection_path, \"r\", encoding=\"utf-8\"))\n",
    "format = \"%Y-%m-%dT%H:%M:%S.%f%z\"\n",
    "\n",
    "index = {d.split(\" \")[0]:{\"target\":d} for d in target_dates}\n",
    "#index = {}\n",
    "#save_index(index,index_path)   # peut supprimer un fichier courant"
   ]
  },
  {
   "cell_type": "markdown",
   "metadata": {},
   "source": [
    "## Extraction des images SSMIS "
   ]
  },
  {
   "cell_type": "code",
   "execution_count": 24,
   "metadata": {},
   "outputs": [],
   "source": [
    "def prepare_SSMIS(index_path, SSMIS_src_dir, SSMIS_proj_dir, attribute, projection, format = \"%Y-%m-%dT%H:%M:%S.%f%z\"):\n",
    "    index = {}\n",
    "    fns = glob.glob(SSMIS_src_dir + r\"/*/*.nc\")\n",
    "    \n",
    "    for fn in fns:\n",
    "        [yyyyddd,freq] = fn.split(\"NSIDC-0630-EASE2_\")[-1].split(\"-\")[2:4]\n",
    "        file = File(fn)\n",
    "        start_date,end_date = file.getAcqDates()\n",
    "        mean_date_str = datetime.strftime(start_date + (end_date - start_date)/2,\"%Y-%m-%d\")\n",
    "        tif_filename = SSMIS_proj_dir + rf\"/SSMIS_{attribute}_{freq}_{yyyyddd}.tiff\"\n",
    "        file.project(projection,attribute,out_path=tif_filename)\n",
    "        \n",
    "        index[mean_date_str] = {}\n",
    "        index[mean_date_str][f\"SSMIS_src_{freq}\"] = fn\n",
    "        index[mean_date_str][f\"start_date_{freq}\"] = datetime.strftime(start_date,format)\n",
    "        index[mean_date_str][f\"end_date_{freq}\"] = datetime.strftime(end_date,format)\n",
    "        index[mean_date_str][f\"SSMIS_tif_{freq}\"] = tif_filename\n",
    "\n",
    "        save_index(index,index_path)\n",
    "\n",
    "SSMIS_src_dir = make_directory(r\"../../data/SSMI/download_dec_2020/telechargement_internet\")\n",
    "SSMIS_proj_dir = make_directory(main_dir + r\"/SSMIS\")\n",
    "prepare_SSMIS(index_path, SSMIS_src_dir, SSMIS_proj_dir, \"TB\", projection,format)\n"
   ]
  },
  {
   "cell_type": "code",
   "execution_count": 35,
   "metadata": {},
   "outputs": [],
   "source": [
    "def download_SSMIS(index_path, SSMIS_src_dir, SSMIS_proj_dir, attribute, projection, research_parameters):\n",
    "    index = get_index(index_path)\n",
    "    for d in index.keys():\n",
    "        # téléchargement des données\n",
    "        retour = download_Meteosat_images(d,SSMIS_src_dir,projection,research_parameters)\n",
    "        tg_freq = research_parameters[\"freq\"][0]\n",
    "        if retour:\n",
    "            src_filename,start_date,end_date = retour\n",
    "            file = File(src_filename) ; string_d = d[:10]\n",
    "            tif_filename = SSMIS_proj_dir + rf\"/SSMIS_{attribute}_{tg_freq}_{string_d}.tiff\"\n",
    "            file.project(projection,attribute,out_path=tif_filename)\n",
    "\n",
    "            index[d][f\"SSMIS_src_{tg_freq}\"] = src_filename\n",
    "            index[d][f\"start_date_{tg_freq}\"] = datetime.strftime(start_date,format)\n",
    "            index[d][f\"end_date_{tg_freq}\"] = datetime.strftime(end_date,format)\n",
    "            index[d][f\"SSMIS_tif_{tg_freq}\"] = tif_filename\n",
    "            save_index(index,index_path)\n",
    "        else:\n",
    "            print(f\"aucun fichier n'a été trouvé pour la date {d}\")\n",
    "        "
   ]
  },
  {
   "cell_type": "code",
   "execution_count": null,
   "metadata": {},
   "outputs": [],
   "source": [
    "SSMIS_src_dir = make_directory(r\"../../data/SSMI/download_dec_2020\")\n",
    "SSMIS_proj_dir = make_directory(main_dir + r\"/SSMIS\")\n",
    "\n",
    "research_parameters = {\n",
    "        \"freq\":[\"91V\",\"91V\",\"91V\",\"91V\",\"91V\",\"91V\"],\n",
    "        \"passage\":[\"A\",\"E\",\"A\",\"E\",\"*\",\"*\"],\n",
    "        \"capteur\":[\"F17_SSMIS\",\"F17_SSMIS\",\"F17_SSMIS\",\"F16_SSMIS\",\"F18_SSMIS\"],\n",
    "        \"algo\":[\"SIR\",\"SIR\",\"SIR\",\"SIR\",\"SIR\"],\n",
    "        \"grid\":[\"T3.125km\",\"N3.125km\",\"T3.125km\",\"T3.125km\",\"T3.125km\"]\n",
    "        }\n",
    "download_SSMIS(index_path, SSMIS_src_dir, SSMIS_proj_dir, \"TB\", projection, research_parameters)\n",
    "\n",
    "\n",
    "research_parameters = {\n",
    "        \"freq\":[\"91H\",\"91H\",\"91H\",\"91H\",\"91H\"],\n",
    "        \"passage\":[\"A\",\"E\",\"A\",\"E\",\"*\",\"*\"],\n",
    "        \"capteur\":[\"F17_SSMIS\",\"F17_SSMIS\",\"F17_SSMIS\",\"F16_SSMIS\",\"F18_SSMIS\"],\n",
    "        \"algo\":[\"SIR\",\"SIR\",\"SIR\",\"SIR\",\"SIR\"],\n",
    "        \"grid\":[\"T3.125km\",\"N3.125km\",\"T3.125km\",\"T3.125km\",\"T3.125km\"]\n",
    "        }\n",
    "download_SSMIS(index_path, SSMIS_src_dir, SSMIS_proj_dir, \"TB\", projection, research_parameters)"
   ]
  },
  {
   "cell_type": "markdown",
   "metadata": {},
   "source": [
    "## Extraction des images SEVIRI"
   ]
  },
  {
   "cell_type": "code",
   "execution_count": 4,
   "metadata": {},
   "outputs": [],
   "source": [
    "def download_SEVIRI(    index_path, \n",
    "                        SEVIRI_src_dir, \n",
    "                        path_API_keys = r\"../../data/keys/eds.key\",\n",
    "                        nb_files_per_period=12,\n",
    "                        format=\"%Y-%m-%dT%H:%M:%S.%f%z\"):\n",
    "\n",
    "    zipped_dir,unzipped_dir = make_directory(SEVIRI_src_dir+r\"/zipped\"),make_directory(SEVIRI_src_dir+r\"/unzipped\")\n",
    "\n",
    "    index = get_index(index_path)\n",
    "    prod_list = []\n",
    "    for d in index.keys():\n",
    "        index[d][\"Meteosat_imgs\"] = {}\n",
    "        try :\n",
    "            start_acq_date = datetime.strptime(index[d][\"start_date_91V\"],format)\n",
    "            end_acq_date = datetime.strptime(index[d][\"end_date_91V\"],format)\n",
    "        except:\n",
    "            print(f\"aucun fichier n'a été trouvé pour la date {d}\")\n",
    "            pass\n",
    "        delta = timedelta(seconds=(end_acq_date - start_acq_date).total_seconds() / nb_files_per_period)\n",
    "        researched_dates = [start_acq_date + i*delta for i in range(nb_files_per_period)]\n",
    "        print(len(researched_dates))\n",
    "        for i in range(len(researched_dates)):\n",
    "            res_d = researched_dates[i]\n",
    "            print(res_d)\n",
    "            prod, Meteosat_date = search_nearest(res_d)\n",
    "            \n",
    "            filename = fr\"{unzipped_dir}/{prod}.nat\"\n",
    "            index[d][\"Meteosat_imgs\"][i] = {    \"file\": filename,\n",
    "                                                \"date\": datetime.strftime(Meteosat_date,format)}\n",
    "            if os.path.exists(filename):\n",
    "                print(f\"le fichier {filename} a déjà été téléchargé\")\n",
    "            else:\n",
    "                prod_list.append(prod)\n",
    "            \n",
    "            \n",
    "    \"\"\"\n",
    "                \n",
    "    print(f\"téléchargement de {len(prod_list)} images\")\n",
    "    download_dataset(prod_list,zipped_dir,unzipped_dir,path_API_keys)\n",
    "    save_index(index,index_path)\n",
    "    \"\"\"\n",
    "\n",
    "\n",
    "def prepare_SEVIRI_images(index_path, out_dir, attribute, projection):\n",
    "    \"\"\"\n",
    "    prépare les images SEVIRI en réalisant leur extraction, leur projection et leur agrégation\n",
    "\n",
    "    Args : \n",
    "        index_path (string) : chemin d'accès au fichier json contenant les informations sur les fichiers images\n",
    "        out_dir (string) : chemin vers le dossier où enregistrer les images\n",
    "        attribute (string) : attribut à extraire\n",
    "        projection (dict) : dictionnaire contenant les paramètres de projection, notamment l'emprise \n",
    "\n",
    "    \"Meteosat_imgs\": {\n",
    "            \"0\": {\n",
    "                \"file\": \"../../data/SEVIRI/dec_2020/unzipped/MSG4-SEVI-MSG15-0100-NA-20201201171243.037000000Z-NA.nat\",\n",
    "                \"date\": \"2020-12-01T17:12:43.000000+0000\"\n",
    "            },...\n",
    "        }\n",
    "    \"\"\"\n",
    "    index = get_index(index_path)\n",
    "    for d in index.keys():\n",
    "        images_dict = index[d][\"Meteosat_imgs\"]\n",
    "        arrays_SEVIRI_d = []\n",
    "        for img_idx in images_dict.keys():\n",
    "            try:\n",
    "                SEVIRI_file = File(images_dict[img_idx][\"file\"])\n",
    "                img_proj = SEVIRI_file.project(projection,attribute)\n",
    "                arrays_SEVIRI_d.append(img_proj.array)\n",
    "            except FileNotFoundError :\n",
    "                print(f\"le fichier {SEVIRI_file.path} n'a pas été trouvé\")\n",
    "                pass\n",
    "        img_proj_agreg = Image(np.mean(np.array(arrays_SEVIRI_d),axis=0),img_proj.lons,img_proj.lats)\n",
    "        filename = out_dir + rf\"/TB_SEVIRI_{attribute}_{d[:10]}.tiff\"\n",
    "        img_proj_agreg.save(projection,filename)\n",
    "        index[d][f\"SEVIRI_{attribute}_tif\"] = filename\n",
    "    save_index(index,index_path)\n",
    "        "
   ]
  },
  {
   "cell_type": "code",
   "execution_count": 5,
   "metadata": {},
   "outputs": [
    {
     "name": "stdout",
     "output_type": "stream",
     "text": [
      "12\n",
      "2020-12-01 00:56:00+00:00\n",
      "2020-12-01 02:49:40+00:00\n",
      "2020-12-01 04:43:20+00:00\n",
      "2020-12-01 06:37:00+00:00\n",
      "2020-12-01 08:30:40+00:00\n",
      "2020-12-01 10:24:20+00:00\n",
      "2020-12-01 12:18:00+00:00\n",
      "2020-12-01 14:11:40+00:00\n",
      "le fichier ../../data/SEVIRI/dec_2020/unzipped/MSG4-SEVI-MSG15-0100-NA-20201201141243.680000000Z-NA.nat a déjà été téléchargé\n",
      "2020-12-01 16:05:20+00:00\n",
      "le fichier ../../data/SEVIRI/dec_2020/unzipped/MSG4-SEVI-MSG15-0100-NA-20201201161243.855000000Z-NA.nat a déjà été téléchargé\n",
      "2020-12-01 17:59:00+00:00\n",
      "le fichier ../../data/SEVIRI/dec_2020/unzipped/MSG4-SEVI-MSG15-0100-NA-20201201181244.019000000Z-NA.nat a déjà été téléchargé\n",
      "2020-12-01 19:52:40+00:00\n",
      "2020-12-01 21:46:20+00:00\n",
      "12\n",
      "2020-12-05 00:07:00+00:00\n",
      "2020-12-05 02:06:20+00:00\n",
      "2020-12-05 04:05:40+00:00\n",
      "2020-12-05 06:05:00+00:00\n",
      "2020-12-05 08:04:20+00:00\n",
      "2020-12-05 10:03:40+00:00\n",
      "2020-12-05 12:03:00+00:00\n",
      "2020-12-05 14:02:20+00:00\n"
     ]
    }
   ],
   "source": [
    "SEVIRI_src_dir = make_directory(r\"../../data/SEVIRI/dec_2020\")\n",
    "SEVIRI_proj_dir = make_directory(main_dir + r\"/SEVIRI\")\n",
    "\n",
    "download_SEVIRI(index_path,SEVIRI_src_dir,nb_files_per_period=12,format=format)\n",
    "\n",
    "#prepare_SEVIRI_images(index_path, SEVIRI_proj_dir, \"IR_108\", projection)"
   ]
  },
  {
   "cell_type": "markdown",
   "metadata": {},
   "source": [
    "## Calcul du facteur de pluie"
   ]
  },
  {
   "cell_type": "code",
   "execution_count": 20,
   "metadata": {},
   "outputs": [],
   "source": [
    "def combine_image_with_GT(index_path,path_GT,path_metadata_GT,key,projection,attribute=1,start_date_key=\"start_date\",end_date_key=\"end_date\",format=\"%Y-%m-%dT%H:%M:%S.%f%z\"):\n",
    "   \n",
    "    # récupération des fichiers\n",
    "    gt_dict = gt.csv2dict(path_GT)[0]\n",
    "    metadata_gt = gt.get_metadata(path_metadata_GT)\n",
    "    index = get_index(index_path)\n",
    "    \n",
    "    # initialisation des listes contenant les données\n",
    "    pixel_values, true_rain, locations = [], [], []\n",
    "    for d in index.keys():\n",
    "        try:\n",
    "            file = File(index[d][key])\n",
    "            img = file.project(projection,attribute)\n",
    "            start_date = datetime.strptime(index[d][start_date_key],format)\n",
    "            end_date = datetime.strptime(index[d][end_date_key],format)\n",
    "            extr_gt_dict = gt.extract(gt_dict,start_date,end_date)\n",
    "            agr_gt_dict = gt.agreg(extr_gt_dict,method=\"mean\")\n",
    "            agr_gt = np.array([agr_gt_dict[d] for d in agr_gt_dict.keys()])\n",
    "            for k in metadata_gt.keys():\n",
    "                lat, lon = float(metadata_gt[k][\"lat\"]),float(metadata_gt[k][\"lon\"])\n",
    "                lats, lons = img.lats.T[0], img.lons[0]\n",
    "                idx_lat,idx_lon = (np.abs(lats - lat)).argmin(), (np.abs(lons - lon)).argmin()\n",
    "                estimated_rain = img.array[idx_lat][idx_lon]\n",
    "                if not np.isnan(estimated_rain):\n",
    "                    true_rain.append(agr_gt[0][k-1])\n",
    "                    pixel_values.append(estimated_rain)\n",
    "                    locations.append(metadata_gt[k][\"Nom\"])\n",
    "                    \n",
    "        except KeyError:\n",
    "            print(f\"le fichier correspondant à la date {d} n'a pas été trouvé pour la clé {key}\")\n",
    "            true_rain.append(np.NaN)\n",
    "            pixel_values.append(np.NaN)\n",
    "            locations.append(np.NaN)\n",
    "    \n",
    "    return true_rain,pixel_values,locations\n",
    "\n",
    "\n",
    "def get_relation(rain_gt,TB_91V,TB_91H):\n",
    "    A,B = [],[]\n",
    "    for i in range(len(rain_gt)):\n",
    "        if (not np.isnan(TB_91V[i])) and (not np.isnan(TB_91H[i])):\n",
    "            A.append([TB_91V[i],TB_91H[i],1])\n",
    "            B.append(rain_gt[i])\n",
    "    print(np.shape(A))\n",
    "    print(np.shape(B))\n",
    "    X=np.linalg.lstsq(A, B, rcond = -1)\n",
    "    return X\n",
    "\n",
    "def compute_rain_rate(index_path,out_dir,X,projection,key_91V=\"SSMIS_tif_91V\",key_91H=\"SSMIS_tif_91H\"):\n",
    "    index = get_index(index_path)\n",
    "    [a0,a1,a2] = X[0]\n",
    "    for d in index.keys(): # récupération des images\n",
    "        try:\n",
    "            img_91V = File(index[d][key_91V]).getImage(1)\n",
    "            img_91H = File(index[d][key_91H]).getImage(1)\n",
    "            TB_91V = np.where(img_91V.array==0,np.NaN,img_91V.array)\n",
    "            TB_91H = np.where(img_91H.array==0,np.NaN,img_91H.array)\n",
    "            R = a0*TB_91V + a1*TB_91H + a2\n",
    "            img_rain_rate = Image(R,img_91H.lons,img_91H.lats)\n",
    "            filename = out_dir + rf\"/rain_rate_{d[:10]}.tiff\"\n",
    "            img_rain_rate.save(projection,filename)\n",
    "            index[d][\"rain_rate\"] = filename\n",
    "            save_index(index,index_path)\n",
    "        except KeyError:\n",
    "            print(f\"l'un des fichiers correspondant à la date {d} n'a pas été trouvé\")\n"
   ]
  },
  {
   "cell_type": "code",
   "execution_count": 28,
   "metadata": {},
   "outputs": [
    {
     "name": "stdout",
     "output_type": "stream",
     "text": [
      "../../data/pluie_sol/gg_12-20_1h.csv\n",
      "816 lignes ont été écartées, il s'agit probablement de lignes vides\n",
      "[0.0, 0.0, 0.0, 0.0, 0.0, 0.0, 0.0, 280.62, 288.25998, 285.59, 287.16, 287.78, 287.50998, 267.4, 0.0, 0.0, 0.0, 0.0, 0.0, 0.0, 0.0, 278.91998, 282.97998, 280.31, 272.21, 286.63, 285.94998, 245.43999, 278.61, 285.4, 284.34, 285.12, 286.99, 274.02, 241.42, 0.0, 0.0, 0.0, 0.0, 0.0, 0.0, 0.0, 276.6, 285.31, 284.18, 285.50998, 285.04, 281.47, 284.81, 0.0, 0.0, 0.0, 0.0, 0.0, 0.0, 286.6, 277.21, 287.34, 286.71, 287.43, 287.59, 281.55, 269.08, 277.91, 287.83, 286.19998, 284.85, 287.13998, 0.0, 0.0, 278.81, 284.77, 276.03, 286.55, 286.91998, 284.99, 285.72, 0.0, 284.19998, 0.0, 0.0, 0.0, 283.8, 285.04, 0.0, 0.0, 0.0, 0.0, 0.0, 0.0, 0.0, 0.0, 0.0, 0.0, 0.0, 0.0, 0.0, 0.0, 277.82, 281.07, 282.19998, 278.32, 284.44998, 0.0, 0.0, 0.0, 0.0, 0.0, 0.0, 0.0, 0.0, 0.0, 0.0, 0.0, 0.0, 0.0, 0.0, 0.0, 0.0, 0.0, 0.0, 0.0, 0.0, 0.0, 285.1, 282.21, 278.22, 285.1, 283.15, 283.4, 286.57, 285.41998, 277.03, 279.97998, 287.88, 284.75, 285.49, 286.08, 283.52, 285.66998, 0.0, 0.0, 0.0, 0.0, 0.0, 0.0, 0.0, 0.0, 0.0, 0.0, 0.0, 0.0, 0.0, 0.0, 262.84, 273.63, 270.43, 283.41, 285.34, 271.52, 268.6, 279.59, 288.03, 286.41998, 286.52, 284.99, 287.74, 267.63998, 276.56, 284.50998, 281.49, 285.66998, 285.97998, 284.71, 283.97998, 277.25, 287.21, 286.57, 285.83, 286.61, 283.78, 281.46, 274.49, 286.46, 281.06, 287.08, 286.31, 288.66, 281.84, 0.0, 0.0, 0.0, 0.0, 0.0, 0.0, 0.0, 279.03, 287.53, 286.66998, 286.72998, 288.11, 285.52, 287.3, 278.54, 286.15, 284.27, 286.66, 286.66998, 284.41998, 286.97998, 278.8, 288.24, 282.99, 286.37, 286.84, 286.05, 285.97]\n"
     ]
    }
   ],
   "source": [
    "out_dir = make_directory(main_dir + r\"/rain_rate\")\n",
    "\n",
    "gt_fn = r\"../../data/pluie_sol/gg_12-20_1h.csv\"\n",
    "mtd_fn = r\"../../data/pluie_sol/gauges_guyane_metadata.csv\"\n",
    "\n",
    "proj_st_geo = r\"../../data/param_proj/param_St_Georges.json\"\n",
    "proj_st_lau = r\"../../data/param_proj/param_St_Laurent.json\"\n",
    "proj_test = r\"../../data/param_proj/test.json\"\n",
    "projection_path = projection_path\n",
    "param_proj = json.load(open(proj_st_geo, \"r\", encoding=\"utf-8\"))\n",
    "\n",
    "savefig = r\"../../rapports/images/correlation_TBMOtrop_VT_guy.png\"\n",
    "\n",
    "key,sdk,edk = \"SSMIS_tif_91V\",\"start_date_91V\",\"end_date_91V\"\n",
    "rain_gt,TB_91V,locations = combine_image_with_GT(index_path,gt_fn,mtd_fn,key,projection,end_date_key=edk,start_date_key=sdk)\n",
    "\n",
    "print(TB_91V)\n",
    "\n",
    "#key,sdk,edk = \"SSMIS_tif_91H\",\"start_date_91H\",\"end_date_91H\"\n",
    "#rain_gt,TB_91H,locations = combine_image_with_GT(index_path,gt_fn,mtd_fn,key,projection,end_date_key=edk,start_date_key=sdk)\n",
    "\n",
    "#X = get_relation(rain_gt,TB_91V,TB_91H)\n",
    "#compute_rain_rate(index_path,out_dir,X,projection)\n",
    "\n"
   ]
  },
  {
   "cell_type": "markdown",
   "metadata": {},
   "source": [
    "## Agrégation des données"
   ]
  },
  {
   "cell_type": "code",
   "execution_count": 33,
   "metadata": {},
   "outputs": [],
   "source": [
    "def agregation_geotiff(index_path,out_dir,key,mode=\"mean\",compute_var=False):\n",
    "    arrays = []\n",
    "    index = get_index(index_path)\n",
    "    for d in index.keys(): # récupération des images\n",
    "        try:\n",
    "            file = File(index[d][key])\n",
    "            if file.format != Geotiff_Format:\n",
    "                print(\"le fichier doit être en format Geotiff\")\n",
    "                raise\n",
    "            img = file.getImage(1)\n",
    "            arrays.append(img.array)\n",
    "        except KeyError:\n",
    "            print(f\"le fichier correspondant à la date {d} n'a pas été trouvé pour la clé {key}\")\n",
    "    \n",
    "    lons,lats = img.lons, img.lats\n",
    "    if mode == \"mean\":\n",
    "        output = np.nanmean(np.array(arrays),axis=0)\n",
    "    else:\n",
    "        output = np.sum(np.array(arrays),axis=0)\n",
    "    img_output = Image(output, lons, lats)\n",
    "    img_output.save(projection,out_dir + rf\"/{key}_agreg.tiff\")\n",
    "    if compute_var:\n",
    "        img_output_var = img_output.computeVar()\n",
    "        img_output_var.save(projection,out_dir + rf\"/{key}_agreg_var.tiff\")\n"
   ]
  },
  {
   "cell_type": "code",
   "execution_count": 35,
   "metadata": {},
   "outputs": [
    {
     "name": "stdout",
     "output_type": "stream",
     "text": [
      "le fichier correspondant à la date 2020-12-01T20:00:00.000000+0000 n'a pas été trouvé pour la clé rain_rate\n"
     ]
    },
    {
     "name": "stderr",
     "output_type": "stream",
     "text": [
      "c:\\Users\\Baptiste\\anaconda3\\envs\\sat_env\\lib\\site-packages\\pyproj\\crs\\crs.py:1282: UserWarning: You will likely lose important projection information when converting to a PROJ string from another format. See: https://proj.org/faq.html#what-is-the-best-format-for-describing-coordinate-reference-systems\n",
      "  proj = self._crs.to_proj4(version=version)\n"
     ]
    }
   ],
   "source": [
    "agr_dir = make_directory(main_dir + r\"/agregation\")\n",
    "key = \"IR_087\" ; var = True\n",
    "#key = \"SSMIS_91V\" ; var = False\n",
    "key = \"rain_rate\" ; var = False\n",
    "agregation_geotiff(index_path,agr_dir,key,compute_var=var)"
   ]
  },
  {
   "cell_type": "markdown",
   "metadata": {},
   "source": [
    "## Classification\n",
    "\n",
    "Segmentation des images en entrée à partir de la méthode des K-means"
   ]
  },
  {
   "cell_type": "code",
   "execution_count": 54,
   "metadata": {},
   "outputs": [
    {
     "name": "stderr",
     "output_type": "stream",
     "text": [
      "c:\\Users\\Baptiste\\anaconda3\\envs\\sat_env\\lib\\site-packages\\pyproj\\crs\\crs.py:1282: UserWarning: You will likely lose important projection information when converting to a PROJ string from another format. See: https://proj.org/faq.html#what-is-the-best-format-for-describing-coordinate-reference-systems\n",
      "  proj = self._crs.to_proj4(version=version)\n"
     ]
    },
    {
     "data": {
      "image/png": "[encoded data removed]",
      "text/plain": [
       "<Figure size 432x288 with 1 Axes>"
      ]
     },
     "metadata": {
      "needs_background": "light"
     },
     "output_type": "display_data"
    }
   ],
   "source": [
    "seg_dir = main_dir + r\"/segmentation\"\n",
    "array_pred,centers = classification(agr_dir,seg_dir,projection,N=10,epsilon=0.001,T=100)"
   ]
  },
  {
   "cell_type": "markdown",
   "metadata": {},
   "source": [
    "## Corrélation"
   ]
  },
  {
   "cell_type": "code",
   "execution_count": 25,
   "metadata": {},
   "outputs": [],
   "source": [
    "def plot_correl(list1,list2,attribute=False,indice_corr=\"Pearson\",savefig=False):\n",
    "\n",
    "    if indice_corr == \"Pearson\":\n",
    "        corr, _ = pearsonr(list1, list2)\n",
    "    elif indice_corr == \"Spearman\":\n",
    "        corr, _ = spearmanr(list1, list2)\n",
    "\n",
    "    if attribute:\n",
    "        color_list = [\"red\",\"green\",\"blue\",\"orange\",\"yellow\",\"pink\",\"black\",\"purple\",\"beige\",\"brown\",\"gray\",\"cyan\"]\n",
    "        colors = [color_list[np.where(np.unique(attribute)==loc)[0][0]] for loc in attribute]\n",
    "        plt.scatter(list1,list2,c=colors,s=60, alpha=0.8)\n",
    "        for i in range(len(np.unique(attribute))):\n",
    "            print(color_list[i],\"\\t\",np.unique(attribute)[i])\n",
    "    else:\n",
    "        plt.scatter(list1,list2,s=60, alpha=0.8)\n",
    "    plt.title(f\"indice de corrélation de {indice_corr}: {round(corr,3)}\")\n",
    "    plt.xlabel(\"pluviommétrie moyenne (mm/h)\")\n",
    "    plt.ylabel(\"TB SSMIS 91H (K)\")\n",
    "    \n",
    "    if savefig:\n",
    "        plt.savefig(savefig, dpi=500)"
   ]
  },
  {
   "cell_type": "code",
   "execution_count": 32,
   "metadata": {},
   "outputs": [
    {
     "name": "stdout",
     "output_type": "stream",
     "text": [
      "../../data/pluie_sol/gg_12-20_1h.csv\n",
      "816 lignes ont été écartées, il s'agit probablement de lignes vides\n",
      "128\n"
     ]
    },
    {
     "data": {
      "image/png": "[encoded data removed]",
      "text/plain": [
       "<Figure size 432x288 with 1 Axes>"
      ]
     },
     "metadata": {
      "needs_background": "light"
     },
     "output_type": "display_data"
    }
   ],
   "source": [
    "gt_fn = r\"../../data/pluie_sol/gg_12-20_1h.csv\"\n",
    "mtd_fn = r\"../../data/pluie_sol/gauges_guyane_metadata.csv\"\n",
    "\n",
    "proj_st_geo = r\"../../data/param_proj/param_St_Georges.json\"\n",
    "proj_st_lau = r\"../../data/param_proj/param_St_Laurent.json\"\n",
    "proj_test = r\"../../data/param_proj/test.json\"\n",
    "projection_path = projection_path\n",
    "param_proj = json.load(open(proj_st_geo, \"r\", encoding=\"utf-8\"))\n",
    "\n",
    "savefig = r\"../../rapports/images/correlation_TBMOtrop_VT_guy.png\"\n",
    "\n",
    "#rain_rate\n",
    "key,sdk,edk = \"SSMIS_tif_91V\",\"start_date_91V\",\"end_date_91V\"\n",
    "true_rain,estim_rain,locations = combine_image_with_GT(index_path,gt_fn,mtd_fn,key,projection,end_date_key=edk,start_date_key=sdk)\n",
    "\n",
    "A,B = [],[]\n",
    "for i in range(len(true_rain)):\n",
    "    if (not np.isnan(true_rain[i]) and (not estim_rain[i]==0)):\n",
    "        A.append(estim_rain[i])\n",
    "        B.append(rain_gt[i])\n",
    "\n",
    "print(len(A))\n",
    "plot_correl(B,A,attribute=False,indice_corr=\"Pearson\",savefig=False)\n"
   ]
  }
 ],
 "metadata": {
  "kernelspec": {
   "display_name": "Python 3.9.12 ('sat_env')",
   "language": "python",
   "name": "python3"
  },
  "language_info": {
   "codemirror_mode": {
    "name": "ipython",
    "version": 3
   },
   "file_extension": ".py",
   "mimetype": "text/x-python",
   "name": "python",
   "nbconvert_exporter": "python",
   "pygments_lexer": "ipython3",
   "version": "3.9.13"
  },
  "orig_nbformat": 4,
  "vscode": {
   "interpreter": {
    "hash": "79a52e5d84065f89c8195aea2272767e62fa59940dcf61368d5fc5f01a252f0b"
   }
  }
 },
 "nbformat": 4,
 "nbformat_minor": 2
}
