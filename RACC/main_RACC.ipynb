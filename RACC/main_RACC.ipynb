{
 "cells": [
  {
   "cell_type": "markdown",
   "metadata": {},
   "source": [
    "# framework RACC\n"
   ]
  },
  {
   "cell_type": "markdown",
   "metadata": {},
   "source": [
    "## imports"
   ]
  },
  {
   "cell_type": "code",
   "execution_count": 4,
   "metadata": {},
   "outputs": [
    {
     "name": "stdout",
     "output_type": "stream",
     "text": [
      "The autoreload extension is already loaded. To reload it, use:\n",
      "  %reload_ext autoreload\n"
     ]
    }
   ],
   "source": [
    "# reloading \n",
    "%load_ext autoreload\n",
    "%autoreload 2\n",
    "\n",
    "# importing librairies\n",
    "from matplotlib.font_manager import json_load\n",
    "import json\n",
    "import glob\n",
    "import numpy as np\n",
    "import datetime\n",
    "from datetime import datetime\n",
    "import sys\n",
    "\n",
    "# importing RACC modules\n",
    "from segmentation import classification\n",
    "\n",
    "# importing modules from Images\n",
    "sys.path.insert(0, r'../Images')\n",
    "from Image import Image\n",
    "from File import File\n",
    "from Geotiff_Format import Geotiff_Format\n",
    "\n",
    "# importing meteosat API modules\n",
    "sys.path.insert(0, r'API_meteosat')\n",
    "from eds_get_nearest import search_nearest,download_dataset"
   ]
  },
  {
   "cell_type": "markdown",
   "metadata": {},
   "source": [
    "## Dates et projection"
   ]
  },
  {
   "cell_type": "code",
   "execution_count": 5,
   "metadata": {},
   "outputs": [],
   "source": [
    "main_dir = r\"../../data/RACC/decembre\"\n",
    "path_dates = r\"../../data/RACC/decembre/acq_dates.json\"\n",
    "\n",
    "projection_path = r\"param_guy.json\"\n",
    "projection = json.load(open(projection_path, \"r\", encoding=\"utf-8\"))\n",
    "\n",
    "target_dates = [\n",
    "    \"2021-11-30 10:11:07\",\n",
    "    \"2021-12-01 20:00:54\",\n",
    "    \"2021-12-03 22:17:15\",\n",
    "    \"2021-12-04 22:03:37\",\n",
    "    \"2021-12-12 21:57:28\",\n",
    "    \"2021-12-13 21:44:29\",\n",
    "    \"2021-12-22 20:24:51\",\n",
    "    \"2021-12-25 21:50:50\"\n",
    "]\n",
    "\n",
    "format = \"%Y-%m-%dT%H:%M:%S.%f%z\""
   ]
  },
  {
   "cell_type": "code",
   "execution_count": 6,
   "metadata": {},
   "outputs": [],
   "source": [
    "def get_dates(path_dates):\n",
    "    with open(path_dates, \"r\", encoding=\"utf-8\") as json_dict:\n",
    "        dates = json.load(json_dict)\n",
    "    return dates\n",
    "    \n",
    "def save_dates(dates,path_dates):\n",
    "    with open(path_dates, 'w', encoding=\"utf-8\") as json_dict:\n",
    "        json.dump(dates, json_dict, indent=4, default=str)\n",
    "        \n",
    "dates = {d.split(\" \")[0]:{\n",
    "        \"target\":d,\n",
    "        \"SSMIS\":\"\",\n",
    "        \"date_acq_SSMIS\":\"\",\n",
    "        \"Meteosat\":\"\",\n",
    "        \"date_acq_Meteosat\":\"\",\n",
    "        \"Ir\":\"\"\n",
    "        } for d in target_dates}\n",
    "dates = {d.split(\" \")[0]:{\"target\":d} for d in target_dates}\n",
    "#save_dates(dates,path_dates)"
   ]
  },
  {
   "cell_type": "markdown",
   "metadata": {},
   "source": [
    "## Extraction des images SSMIS "
   ]
  },
  {
   "cell_type": "code",
   "execution_count": 9,
   "metadata": {},
   "outputs": [],
   "source": [
    "def search_near_SSMI(dir,projection,tg_date,freq=\"*\",pola=\"*\"):\n",
    "    year = str(tg_date.year)\n",
    "    days = (tg_date - datetime.strptime(year,\"%Y\")).days\n",
    "    delta_min, fn_min = np.iinfo(np.int32).max, None\n",
    "    for offset in [-1,0,1]:\n",
    "        fns = glob.glob(dir+ rf\"/*/*{year}{days+offset}-{freq}{pola}-*.nc\")\n",
    "        for fn in fns:\n",
    "            file = File(fn)\n",
    "            acq_date = file.getTime(projection,\"TB_time\").replace(tzinfo=None)\n",
    "            img = file.project(r\"../../data/test.tiff\",projection,\"TB\")\n",
    "            delta = (tg_date-acq_date).total_seconds()\n",
    "            try :\n",
    "                unique, counts = np.unique(img.array, return_counts=True)\n",
    "                zero_rate = dict(zip(unique, counts))[0]/(img.array.shape[0]*img.array.shape[1])\n",
    "            except KeyError:\n",
    "                zero_rate = 0\n",
    "            if (zero_rate < 0.1) and (np.abs(delta) < delta_min):\n",
    "                delta_min, fn_min = delta, fn\n",
    "    file = File(fn_min)\n",
    "    return file, file.getTime(projection,\"TB_time\")\n",
    "\n",
    "def select_and_project_SSMIS_images(dir,out_dir,path_dates,projection,freq=91,polar=\"*\"):\n",
    "    \"\"\"\n",
    "    sélectionne parmis les données SSMIS téléchargées les plus proches des dates retenues\n",
    "    permet de convertir ces fichiers puis de les géoréférencer à partir du dictionnaire projection\n",
    "    \"\"\"\n",
    "    dates = get_dates(path_dates)\n",
    "    for d in dates.keys():\n",
    "        dt = datetime.strptime(dates[d][\"target\"], \"%Y-%m-%d %H:%M:%S\")\n",
    "        file,acq = search_near_SSMI(dir,projection,dt,freq,polar)\n",
    "        filename = out_dir + rf\"/SSMIS_{d}.tiff\"\n",
    "        file.project(filename,projection,\"TB\")\n",
    "        dates[d][\"SSMIS\"] = filename\n",
    "        dates[d][\"acq_SSMIS\"] = acq.strftime(format)\n",
    "    save_dates(dates,path_dates)"
   ]
  },
  {
   "cell_type": "code",
   "execution_count": 10,
   "metadata": {},
   "outputs": [],
   "source": [
    "SSMIS_src_dir = r\"../../data/SSMI/download_dec_2021\"\n",
    "\n",
    "select_and_project_SSMIS_images(SSMIS_src_dir,main_dir,path_dates,projection)"
   ]
  },
  {
   "cell_type": "markdown",
   "metadata": {},
   "source": [
    "## Extraction des images Meteosat"
   ]
  },
  {
   "cell_type": "code",
   "execution_count": 122,
   "metadata": {},
   "outputs": [],
   "source": [
    "def download_Meteosat_images(path_dates,path_unzipped,path_download,path_keys):\n",
    "    dates = get_dates(path_dates)\n",
    "    \n",
    "    prod_list = []\n",
    "    for d in dates.keys():\n",
    "        prod, end_acq_date = search_nearest(datetime.strptime(dates[d][\"acq_SSMIS\"],format))\n",
    "        dates[d][\"Meteosat\"] = fr\"{path_unzipped}/{prod}.nat\"\n",
    "        dates[d][\"acq_Meteosat\"] = datetime.strftime(end_acq_date,format)\n",
    "        prod_list.append(prod)\n",
    "    \n",
    "    #download_dataset(prod_list,path_download,path_unzipped,path_keys)\n",
    "    save_dates(dates,path_dates)\n",
    "\n",
    "def project_Meteosat_images(path_dates, main_dir, projection, attribute):\n",
    "    dates = get_dates(path_dates)\n",
    "    for d in dates.keys():\n",
    "        filename = main_dir + rf\"/{attribute}_{d}_proj.tiff\"\n",
    "        meteosat_file = File(dates[d][\"Meteosat\"])\n",
    "        meteosat_file.project(filename,projection,attribute)\n",
    "        dates[d][f\"{attribute}\"] = filename\n",
    "    save_dates(dates,path_dates)\n",
    "        "
   ]
  },
  {
   "cell_type": "code",
   "execution_count": null,
   "metadata": {},
   "outputs": [],
   "source": [
    "path_download=r\"../../data/IR\"\n",
    "path_keys = r\"../../data/keys/eds.key\"\n",
    "\n",
    "#download_Meteosat_images(path_dates,main_dir,path_download,path_keys)\n",
    "project_Meteosat_images(path_dates, main_dir, projection, \"IR_087\")"
   ]
  },
  {
   "cell_type": "markdown",
   "metadata": {},
   "source": [
    "## Agrégation des données"
   ]
  },
  {
   "cell_type": "code",
   "execution_count": 11,
   "metadata": {},
   "outputs": [],
   "source": [
    "def agregation(path_dates,out_dir,key,mode=\"mean\",compute_var=False):\n",
    "    arrays = []\n",
    "    dates = get_dates(path_dates)\n",
    "    for d in dates.keys(): # récupération des images\n",
    "        file = File(dates[d][key])\n",
    "        if file.format != Geotiff_Format:\n",
    "            print(\"le fichier doit être en format Geotiff\")\n",
    "            raise\n",
    "        img = file.getImage(1)\n",
    "        arrays.append(img.array)\n",
    "    \n",
    "    lons,lats = img.lons, img.lats\n",
    "    if mode == \"mean\":\n",
    "        output = np.mean(np.array(arrays),axis=0)\n",
    "    else:\n",
    "        output = np.sum(np.array(arrays),axis=0)\n",
    "    img_output = Image(output, lons, lats)\n",
    "    img_output.save(projection,out_dir + rf\"/{key}_agreg.tiff\")\n",
    "    if compute_var:\n",
    "        img_output_var = img_output.computeVar()\n",
    "        img_output_var.save(projection,out_dir + rf\"/{key}_agreg_var.tiff\")\n",
    "        \n"
   ]
  },
  {
   "cell_type": "code",
   "execution_count": 12,
   "metadata": {},
   "outputs": [
    {
     "name": "stderr",
     "output_type": "stream",
     "text": [
      "c:\\Users\\Baptiste\\anaconda3\\envs\\sat_env\\lib\\site-packages\\pyproj\\crs\\crs.py:1282: UserWarning: You will likely lose important projection information when converting to a PROJ string from another format. See: https://proj.org/faq.html#what-is-the-best-format-for-describing-coordinate-reference-systems\n",
      "  proj = self._crs.to_proj4(version=version)\n"
     ]
    }
   ],
   "source": [
    "seg_dir = main_dir + r\"/segmentation\"\n",
    "#key = \"IR_087\" ; var = True\n",
    "key = \"SSMIS\" ; var = False\n",
    "agregation(path_dates,seg_dir,key,compute_var=var)"
   ]
  },
  {
   "cell_type": "markdown",
   "metadata": {},
   "source": [
    "## Classification\n",
    "\n",
    "Segmentation des images en entrée à partir de la méthode des K-means"
   ]
  },
  {
   "cell_type": "code",
   "execution_count": 13,
   "metadata": {},
   "outputs": [
    {
     "name": "stderr",
     "output_type": "stream",
     "text": [
      "c:\\Users\\Baptiste\\anaconda3\\envs\\sat_env\\lib\\site-packages\\pyproj\\crs\\crs.py:1282: UserWarning: You will likely lose important projection information when converting to a PROJ string from another format. See: https://proj.org/faq.html#what-is-the-best-format-for-describing-coordinate-reference-systems\n",
      "  proj = self._crs.to_proj4(version=version)\n"
     ]
    },
    {
     "data": {
      "image/png": "[encoded data removed]",
      "text/plain": [
       "<Figure size 432x288 with 1 Axes>"
      ]
     },
     "metadata": {
      "needs_background": "light"
     },
     "output_type": "display_data"
    }
   ],
   "source": [
    "array_pred,centers = classification(seg_dir,projection,N=10,epsilon=0.001,T=100)"
   ]
  },
  {
   "cell_type": "markdown",
   "metadata": {},
   "source": [
    "## no man's land\n",
    "\n",
    "o\n",
    "\n",
    "o\n",
    "\n",
    "o\n",
    "\n",
    "o\n",
    "\n",
    "o\n",
    "\n",
    "o\n",
    "\n",
    "o\n"
   ]
  },
  {
   "cell_type": "code",
   "execution_count": null,
   "metadata": {},
   "outputs": [],
   "source": [
    "\n",
    "\"\"\"\n",
    "from osgeo import gdal\n",
    "a = r\"../../data/SSMI/download_dec_2021\\238356902\\NSIDC-0630-EASE2_N25km-F18_SSMIS-2021333-91V-E-GRD-CSU_ICDR-v1.5.nc\"\n",
    "ds = gdal.Open(\"NETCDF:{0}:{1}\".format(a, \"TB_time\"))\n",
    "print(ds.GetGeoTransform())\n",
    "\"\"\"\n",
    "\n",
    "# ex code\n",
    "def selection_dir(dir,projection,attribute,zero_rate=0.1):\n",
    "    paths = glob.glob(dir + \"*/*.nc\")\n",
    "    out_dict = {}\n",
    "    for path in paths:\n",
    "        file = File(path)\n",
    "        image = file.project(\"temporary.tiff\",projection,attribute)\n",
    "        arr = image.array\n",
    "        try :\n",
    "            unique, counts = np.unique(arr, return_counts=True)\n",
    "            zero_rate = dict(zip(unique, counts))[0]/(arr.shape[0]*arr.shape[1])\n",
    "        except KeyError:\n",
    "            zero_rate = 0\n",
    "        if zero_rate < 0.1:\n",
    "            date = file.getTime(projection,f\"{attribute}_time\")\n",
    "            date = date.strftime(\"%Y-%m-%d %H:%M:%S\")\n",
    "            out_dict[date] = path\n",
    "    with open(dir+\"dates.json\", 'w', encoding='utf-8') as f:\n",
    "        json.dump(out_dict, f, ensure_ascii=False, indent=4)\n",
    "    return out_dict\n",
    "\n",
    "def download_IR(filenames,projection,attribute):\n",
    "    for fn in filenames:\n",
    "        file = File(fn)\n",
    "        date = fn.split(\"-\")[-2]\n",
    "        yyyy,mm,dd = date[:4],date[4:6],date[6:8]\n",
    "        file.project(rf\"../data/IR/agregation/{attribute}_{yyyy}-{mm}-{dd}.tiff\",projection,attribute)\n",
    "    \"\"\"\n",
    "    file = File(fn)\n",
    "    download_all(file,r\"../data/IR/results/IR{\")\n",
    "    \"\"\"\n",
    "\n",
    "def aggregation(projection,out_name,images=[],dir=False,mode=\"mean\"):\n",
    "    if dir:\n",
    "        images = []\n",
    "        filenames = glob.glob(rf\"{dir}*.tiff\")\n",
    "        for fn in filenames:\n",
    "            file = File(fn)\n",
    "            images.append(file.getImage(1).array)\n",
    "            lons,lats = file.getImage(1).lons, file.getImage(1).lats\n",
    "    if mode == \"mean\":\n",
    "        output = np.mean(np.array(images),axis=0)\n",
    "    else:\n",
    "        output = np.sum(np.array(images),axis=0)\n",
    "    img_output = Image(output, lons, lats)\n",
    "    img_output.save(projection,out_name)\n",
    "    \n",
    "def search_near_SSMI(dir,projection,tg_date=\"*\",freq=\"*\",pola=\"*\"):\n",
    "    year = str(tg_date.year)\n",
    "    days = (tg_date - datetime.strptime(year,\"%Y\")).days\n",
    "    delta_min, fn_min = np.iinfo(np.int32).max, None\n",
    "    for offset in [-1,0,1]:\n",
    "        fns = glob.glob(dir+ rf\"/*/*{year}{days+offset}-{freq}{pola}-*.nc\")\n",
    "        for fn in fns:\n",
    "            file = File(fn)\n",
    "            acq_date = file.getTime(projection,\"TB_time\").replace(tzinfo=None)\n",
    "            img = file.project(r\"../data/test.tiff\",projection,\"TB\")\n",
    "            delta = (tg_date-acq_date).total_seconds()\n",
    "            try :\n",
    "                unique, counts = np.unique(img.array, return_counts=True)\n",
    "                zero_rate = dict(zip(unique, counts))[0]/(img.array.shape[0]*img.array.shape[1])\n",
    "            except KeyError:\n",
    "                zero_rate = 0\n",
    "            if (zero_rate < 0.1) and (np.abs(delta) < delta_min):\n",
    "                delta_min, fn_min = delta, fn\n",
    "    file = File(fn_min)\n",
    "    return file, file.getTime(projection,\"TB_time\")\n",
    "\n",
    "def prepare_data_RACC(main_dir,dates,projection):\n",
    "    \"\"\"\n",
    "    sélectionne parmis les données SSMIS et IR les fichiers d'intérêt \n",
    "    télécharge ces fichiers puis les géoréférence de la même manière\n",
    "    aggrège les données et calcule la variance des images IR\n",
    "    \"\"\"\n",
    "    SSMI_imgs = []\n",
    "    for date in dates:\n",
    "        dt = datetime.strptime(date, \"%Y-%m-%d %H:%M:%S\") ; freq = 91 ; pola = \"*\"\n",
    "        file,acq = search_near_SSMI(\"../data/SSMI/download_dec_2021\",projection,dt,freq,pola)\n",
    "        date_str = acq.strftime(\"%Y-%m-%d\")\n",
    "        img = file.project(rf\"../data/RACC/produced/SSMIS_{date_str}.tiff\",projection,\"TB\")\n",
    "        SSMI_imgs.append(img.array)\n",
    "    aggregation(projection,rf\"../data/RACC/produced/SSMIS_agrege.tiff\",SSMI_imgs)\n",
    "\n",
    "\n",
    "\n",
    "    prepare_data_RACC(dir,dates,projection)\n",
    "    \n",
    "\n",
    "    #download_IR(glob.glob(r\"../data/IR/*.nat\"),projection,\"IR_087\")\n",
    "\n",
    "    #aggregation(r\"../data/SSMI/agregation/\",projection,\"mean\")\n",
    "    #aggregation(r\"../data/IR/agregation/\",projection,\"mean\",True)\n",
    "\n",
    "    \"\"\"\n",
    "    \n",
    "    dates_dir = json.load(open(r\"../data/SSMI/dates.json\", \"r\", encoding=\"utf-8\"))\n",
    "    \n",
    "    for d in dates:\n",
    "        filename = dates_dir[d].split(\"-\")\n",
    "        filename[-5] = \"19V\"\n",
    "        f = '-'.join(filename)\n",
    "        print(f)\n",
    "    #download_SSMI_from_json(f\"{dir}dates.json\",dates,projection)\n",
    "    \"\"\"\n",
    "\n",
    "\"\"\"\n",
    "    #attributes = ['HRV', 'IR_016', 'IR_039', 'IR_087', 'IR_097', 'IR_108', 'IR_120', 'IR_134', 'VIS006', 'VIS008', 'WV_062', 'WV_073'] \n",
    "    attributes = ['IR_087']\n",
    "    for att in attributes:\n",
    "        out_path = rf\"../data/test_seg/Meteosat_{att}.tiff\"\n",
    "        compute_var_path = rf\"../data/test_seg/Meteosat_{att}_var.tiff\"\n",
    "        values = convert_nat(nat_path,out_path,proj_path,att,compute_var_path)\n",
    "\n",
    "         for date in dates_dir.keys():\n",
    "        dates_list.append(datetime.strptime(date, \"%Y-%m-%d %H:%M:%S\"))\n",
    "    dates = matplotlib.dates.date2num(dates_list)\n",
    "    y = [1 for i in range(len(dates_list))]\n",
    "    plt.plot_date(dates,y)\n",
    "    plt.show()\n",
    "\n",
    "    \n",
    "    dates_list = list(dates_dir.keys())\n",
    "    dates_list.sort()\n",
    "    print(dates_list)\n",
    "    \"\"\"\n",
    "\n"
   ]
  }
 ],
 "metadata": {
  "kernelspec": {
   "display_name": "Python 3.9.12 ('sat_env')",
   "language": "python",
   "name": "python3"
  },
  "language_info": {
   "codemirror_mode": {
    "name": "ipython",
    "version": 3
   },
   "file_extension": ".py",
   "mimetype": "text/x-python",
   "name": "python",
   "nbconvert_exporter": "python",
   "pygments_lexer": "ipython3",
   "version": "3.9.13"
  },
  "orig_nbformat": 4,
  "vscode": {
   "interpreter": {
    "hash": "79a52e5d84065f89c8195aea2272767e62fa59940dcf61368d5fc5f01a252f0b"
   }
  }
 },
 "nbformat": 4,
 "nbformat_minor": 2
}
