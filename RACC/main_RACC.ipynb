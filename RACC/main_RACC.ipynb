{
 "cells": [
  {
   "cell_type": "markdown",
   "metadata": {},
   "source": [
    "# framework RACC\n",
    "\n",
    "Ce framework a pour objectif de mettre en place la méthode RACC sur des données MO (SSMIS) et IR (Meteosat)\n",
    "Les changements à faire dans le code sont marqués par le mot clé TODO"
   ]
  },
  {
   "cell_type": "markdown",
   "metadata": {},
   "source": [
    "## imports"
   ]
  },
  {
   "cell_type": "code",
   "execution_count": 22,
   "metadata": {},
   "outputs": [
    {
     "name": "stdout",
     "output_type": "stream",
     "text": [
      "The autoreload extension is already loaded. To reload it, use:\n",
      "  %reload_ext autoreload\n"
     ]
    }
   ],
   "source": [
    "# reloading \n",
    "%load_ext autoreload\n",
    "%autoreload 2\n",
    "\n",
    "# importing librairies\n",
    "import numpy as np\n",
    "import matplotlib.pyplot as plt\n",
    "from datetime import datetime, date, timedelta\n",
    "from scipy.stats import pearsonr, spearmanr\n",
    "\n",
    "import json\n",
    "import glob\n",
    "import sys\n",
    "import warnings\n",
    "import os\n",
    "\n",
    "# importing modules from RACC directory\n",
    "from classification import classification\n",
    "import ground_truth as gt\n",
    "\n",
    "# importing modules from Images\n",
    "sys.path.insert(0, r'../Images')\n",
    "from Image import Image\n",
    "from File import File\n",
    "from Geotiff_Format import Geotiff_Format\n",
    "\n",
    "# importing meteosat API modules\n",
    "sys.path.insert(0, r'API_meteosat')\n",
    "from eds_get_nearest import search_nearest,download_dataset\n",
    "sys.path.insert(0, r'API_nsidc')\n",
    "from nsidc_download import cmr_search,cmr_download"
   ]
  },
  {
   "cell_type": "markdown",
   "metadata": {},
   "source": [
    "## Initialisation des variables principales\n",
    "\n",
    "On définit les chemins d'accès principaux afin d'obtenir les variables utiles dans tout le code"
   ]
  },
  {
   "cell_type": "code",
   "execution_count": 23,
   "metadata": {},
   "outputs": [],
   "source": [
    "def get_index(index_path):\n",
    "    with open(index_path, \"r\", encoding=\"utf-8\") as json_dict:\n",
    "        index = json.load(json_dict)\n",
    "    return index\n",
    "    \n",
    "def save_index(index,index_path):\n",
    "    with open(index_path, 'w', encoding=\"utf-8\") as json_dict:\n",
    "        json.dump(index, json_dict, indent=4, default=str)\n",
    "        \n",
    "def make_directory(path):\n",
    "    if not os.path.exists(path):\n",
    "        os.makedirs(path)\n",
    "    return path"
   ]
  },
  {
   "cell_type": "code",
   "execution_count": 62,
   "metadata": {},
   "outputs": [],
   "source": [
    "# TODO : remplir le chemin d'accès au dossier principal où tous les fichiers seront générés\n",
    "main_dir = make_directory(r\"../../data/RACC/dec_2020\")\n",
    "\n",
    "# TODO : remplir le chemin d'accès au fichier json contenant les dates et leurs différents attributs\n",
    "index_path = main_dir + r\"/acq_dates.json\"\n",
    "\n",
    "# TODO : remplir le chemin d'accès au fichier json contenant les paramètres de la projection comme la résolution et l'emprise\n",
    "projection_path = r\"../../data/param_proj/param_guy.json\"\n",
    "\n",
    "# TODO : compléter les dates visées dans le format suivant\n",
    "target_dates = [\n",
    "    \"2020-12-01T20:00:00.000000+0000\",\n",
    "    \"2020-12-08T16:00:00.000000+0000\",\n",
    "    \"2020-12-12T06:00:00.000000+0000\",\n",
    "    \"2020-12-12T12:00:00.000000+0000\",\n",
    "    \"2020-12-18T01:00:00.000000+0000\",\n",
    "    \"2020-12-20T12:00:00.000000+0000\",\n",
    "    \"2020-12-24T12:00:00.000000+0000\",\n",
    "    \"2020-12-27T02:00:00.000000+0000\",\n",
    "    \"2020-12-29T12:00:00.000000+0000\",\n",
    "]\n",
    "\n",
    "\n",
    "projection = json.load(open(projection_path, \"r\", encoding=\"utf-8\"))\n",
    "format = \"%Y-%m-%dT%H:%M:%S.%f%z\"\n",
    "\n",
    "index = {d.split(\" \")[0]:{\"target\":d} for d in target_dates}\n",
    "save_index(index,index_path)   # peut supprimer un fichier courant"
   ]
  },
  {
   "cell_type": "markdown",
   "metadata": {},
   "source": [
    "## Extraction des images SSMIS "
   ]
  },
  {
   "cell_type": "code",
   "execution_count": 113,
   "metadata": {},
   "outputs": [],
   "source": [
    "def download_Meteosat_images(   index_path,\n",
    "                                download_dir,\n",
    "                                freq=\"91*\",\n",
    "                                format=\"%Y-%m-%dT%H:%M:%S.%f%z\",\n",
    "                                quiet=False,\n",
    "                                passage=\"*\",\n",
    "                                capteur=\"*\",\n",
    "                                reso=\"3.125km\",\n",
    "                                grid=\"T\"):\n",
    "    index = get_index(index_path)\n",
    "    for d in index.keys():\n",
    "        print(f\"_____\\nrecherche pour la date {d}\")\n",
    "        if f\"SSMI_{freq}\" in index[d].keys():\n",
    "            print(f\"une image a déjà été enregistrée pour la fréquence {freq} à la date {d}\")\n",
    "            break\n",
    "        tg_date = datetime.strptime(d,format)\n",
    "        tg_year = tg_date.year\n",
    "        tg_day = (tg_date.date() - date(tg_year,1,1)).days + 1\n",
    "        delta = timedelta(days=3)\n",
    "        url_list = cmr_search(  short_name='NSIDC-0630', \n",
    "                                version='1', \n",
    "                                time_start=datetime.strftime(tg_date-delta,\"%Y-%m-%dT%H:%M:%S\")+\"Z\",\n",
    "                                time_end=datetime.strftime(tg_date+delta,\"%Y-%m-%dT%H:%M:%S\")+\"Z\",\n",
    "                                bounding_box='-61.27,-2.38,-47.66,10.86',\n",
    "                                filename_filter=f'NSIDC-0630-EASE2_{grid}{reso}-{capteur}_SSMIS-{tg_year}{tg_day}-{freq}-{passage}*', \n",
    "                                quiet=quiet)\n",
    "        print(f'NSIDC-0630-EASE2_T3.125km-{capteur}_SSMIS-{tg_year}{tg_day}-{freq}-{passage}*')\n",
    "        for url in url_list:\n",
    "            if url[-2:] == \"nc\":\n",
    "                filename = download_dir+ \"/\" + url.split('/')[-1]\n",
    "                if os.path.exists(filename):\n",
    "                    print(f\"le fichier {filename} a déjà été téléchargé\")\n",
    "                else:\n",
    "                    cmr_download([url,url+\".xml\"], download_dir, quiet=quiet)\n",
    "                file = File(filename)\n",
    "                img = file.project(projection,\"TB\")\n",
    "                try : # on compte les occurences de 0 pour déterminer si le fichier est corrompu\n",
    "                    unique, counts = np.unique(img.array, return_counts=True)\n",
    "                    zero_rate = dict(zip(unique, counts))[0]/(img.array.shape[0]*img.array.shape[1])\n",
    "                except KeyError: # aucune occurence de 0\n",
    "                    zero_rate = 0\n",
    "                start_date, end_date = file.getAcqDates()\n",
    "                print(f\"image analysée : zero_rate={zero_rate}, start_date: {start_date}, end_date: {end_date}\")\n",
    "                if (zero_rate < 0.1) and (start_date < tg_date < end_date):\n",
    "                    print(f\"image trouvée à la date {d}\")\n",
    "                    img.show()\n",
    "                    index[d][f\"SSMI_{freq}_src\"] = filename\n",
    "                    index[d][\"start_date\"] = datetime.strftime(start_date,format)\n",
    "                    index[d][\"end_date\"] = datetime.strftime(end_date,format)\n",
    "                    save_index(index,index_path)\n",
    "                    break\n",
    "\n",
    "def prepare_SSMI_images(index_path, out_dir, key, attribute, projection, new_key=\"SSMI_91*_tif\"):\n",
    "    \"\"\"\n",
    "    prépare les images SEVIRI en réalisant leur extraction et leur projection par date\n",
    "    \"\"\"\n",
    "    index = get_index(index_path)\n",
    "    for d in index.keys():\n",
    "        string_d = d[:10]\n",
    "        try:\n",
    "            file = File(index[d][key])\n",
    "            key_for_path = key.replace(\"*\",\"pol\")\n",
    "            out_fn = out_dir + rf\"/{attribute}_{key_for_path}_{string_d}.tiff\"\n",
    "            file.project(projection,attribute,out_path=out_fn)\n",
    "            index[d][new_key] = out_fn\n",
    "            save_index(index,index_path)\n",
    "        except KeyError:\n",
    "            print(f\"le fichier correspondant à la date {d} n'a pas été trouvé pour la clé {key}\")"
   ]
  },
  {
   "cell_type": "code",
   "execution_count": null,
   "metadata": {},
   "outputs": [],
   "source": [
    "download_dir = make_directory(r\"../../data/SSMI/download_dec_2020\")\n",
    "SSMIS_dir = make_directory(main_dir + r\"/SSMIS\")\n",
    "\n",
    "freq = \"91*\" ; \n",
    "download_Meteosat_images(index_path,download_dir,freq=freq,format=format,quiet=True)\n",
    "prepare_SSMI_images(index_path, SSMIS_dir, f\"SSMI_{freq}_src\", \"TB\", projection, new_key=\"SSMI_91*_tif\")\n"
   ]
  },
  {
   "cell_type": "markdown",
   "metadata": {},
   "source": [
    "## Extraction des images SEVIRI"
   ]
  },
  {
   "cell_type": "code",
   "execution_count": 114,
   "metadata": {},
   "outputs": [],
   "source": [
    "def download_SEVIRI_images( index_path,\n",
    "                            unzipped_dir,\n",
    "                            download_dir,\n",
    "                            path_API_keys,\n",
    "                            nb_files_per_period=12,\n",
    "                            key_SSMI=\"SSMI_91\",\n",
    "                            format=\"%Y-%m-%dT%H:%M:%S.%f%z\"):\n",
    "    index = get_index(index_path)\n",
    "    prod_list = []\n",
    "    for d in index.keys():\n",
    "        index[d][\"Meteosat_imgs\"] = {}\n",
    "        SSMIS_file = File(index[d][key_SSMI])\n",
    "        start_acq_date,end_acq_date = SSMIS_file.getAcqDates()\n",
    "        seconds = (end_acq_date - start_acq_date).total_seconds() / nb_files_per_period\n",
    "        delta = timedelta(seconds=seconds)\n",
    "        researched_dates = [start_acq_date + i*delta for i in range(nb_files_per_period)]\n",
    "        for i in range(len(researched_dates)):\n",
    "            res_d = researched_dates[i]\n",
    "            prod, Meteosat_date = search_nearest(res_d)\n",
    "            filename = fr\"{unzipped_dir}/{prod}.nat\"\n",
    "            index[d][\"Meteosat_imgs\"][i] = {    \"file\": filename,\n",
    "                                                \"date\": datetime.strftime(Meteosat_date,format)}\n",
    "            if os.path.exists(filename):\n",
    "                print(f\"le fichier {filename} a déjà été téléchargé\")\n",
    "            else:\n",
    "                prod_list.append(prod)\n",
    "                \n",
    "    #print(f\"téléchargement de {len(prod_list)} images\")\n",
    "    #download_dataset(prod_list,download_dir,unzipped_dir,path_API_keys)\n",
    "    save_index(index,index_path)\n",
    "    \n",
    "\n",
    "def prepare_SEVIRI_images(index_path, out_dir, attribute, projection):\n",
    "    \"\"\"\n",
    "    prépare les images SEVIRI en réalisant leur extraction, leur projection et leur agrégation\n",
    "\n",
    "    Args : \n",
    "        index_path (string) : chemin d'accès au fichier json contenant les informations sur les fichiers images\n",
    "        out_dir (string) : chemin vers le dossier où enregistrer les images\n",
    "        attribute (string) : attribut à extraire\n",
    "        projection (dict) : dictionnaire contenant les paramètres de projection, notamment l'emprise \n",
    "\n",
    "    \"Meteosat_imgs\": {\n",
    "            \"0\": {\n",
    "                \"file\": \"../../data/SEVIRI/dec_2020/unzipped/MSG4-SEVI-MSG15-0100-NA-20201201171243.037000000Z-NA.nat\",\n",
    "                \"date\": \"2020-12-01T17:12:43.000000+0000\"\n",
    "            },\n",
    "    \"\"\"\n",
    "    index = get_index(index_path)\n",
    "    for d in index.keys():\n",
    "        images_dict = index[d][\"Meteosat_imgs\"]\n",
    "        arrays_SEVIRI_d = []\n",
    "        for img_idx in images_dict.keys():\n",
    "            try:\n",
    "                SEVIRI_file = File(images_dict[img_idx][\"file\"])\n",
    "                img_proj = SEVIRI_file.project(projection,attribute)\n",
    "                arrays_SEVIRI_d.append(img_proj.array)\n",
    "            except FileNotFoundError :\n",
    "                print(f\"le fichier {SEVIRI_file.path} n'a pas été trouvé\")\n",
    "                pass\n",
    "        img_proj_agreg = Image(np.mean(np.array(arrays_SEVIRI_d),axis=0),img_proj.lons,img_proj.lats)\n",
    "        filename = out_dir + rf\"/TB_SEVIRI_{attribute}_{d[:10]}.tiff\"\n",
    "        img_proj_agreg.save(projection,filename)\n",
    "        index[d][f\"SEVIRI_{attribute}_tif\"] = filename\n",
    "    save_index(index,index_path)\n",
    "        "
   ]
  },
  {
   "cell_type": "code",
   "execution_count": null,
   "metadata": {},
   "outputs": [],
   "source": [
    "SEVIRI_dir_zipped = r\"../../data/SEVIRI/dec_2020/zipped\"\n",
    "SEVIRI_dir_unzipped = r\"../../data/SEVIRI/dec_2020/unzipped\"\n",
    "SEVIRI_dir = make_directory(main_dir + r\"/SEVIRI\")\n",
    "\n",
    "path_keys = r\"../../data/keys/eds.key\"\n",
    "\n",
    "#download_SEVIRI_images(index_path, SEVIRI_dir_unzipped, SEVIRI_dir_zipped, path_keys, nb_files_per_period=12, key_SSMI=\"SSMI_91*_src\", format=format)\n",
    "prepare_SEVIRI_images(index_path, SEVIRI_dir, \"IR_108\", projection)"
   ]
  },
  {
   "cell_type": "markdown",
   "metadata": {},
   "source": [
    "## Calcul du facteur de pluie"
   ]
  },
  {
   "cell_type": "code",
   "execution_count": 29,
   "metadata": {},
   "outputs": [],
   "source": [
    "def compute_rain_rate(index_path,out_dir,projection,key1=\"SSMI_37V_proj\",key2=\"SSMI_19V_proj\"):\n",
    "    index = get_index(index_path)\n",
    "    for d in index.keys(): # récupération des images\n",
    "        try:\n",
    "            img_TB37v = File(index[d][key1]).getImage(1)\n",
    "            img_TB19v = File(index[d][key2]).getImage(1)\n",
    "            TB37v = np.where(img_TB37v.array==0,np.NaN,img_TB37v.array)\n",
    "            TB19v = np.where(img_TB19v.array==0,np.NaN,img_TB19v.array)\n",
    "            R = np.exp(-17.76849 - 0.09612*TB37v + 0.15678*TB19v) -1 \n",
    "            img_rain_rate = Image(R,img_TB37v.lons,img_TB37v.lats)\n",
    "            filename = out_dir + rf\"/rain_rate_{d[:10]}.tiff\"\n",
    "            img_rain_rate.save(projection,filename)\n",
    "            index[d][\"rain_rate\"] = filename\n",
    "            save_index(index,index_path)\n",
    "        except KeyError:\n",
    "            print(f\"le fichier correspondant à la date {d} n'a pas été trouvé\")"
   ]
  },
  {
   "cell_type": "code",
   "execution_count": 30,
   "metadata": {},
   "outputs": [
    {
     "name": "stdout",
     "output_type": "stream",
     "text": [
      "le fichier correspondant à la date 2020-12-01T20:00:00.000000+0000 n'a pas été trouvé\n"
     ]
    },
    {
     "name": "stderr",
     "output_type": "stream",
     "text": [
      "c:\\Users\\Baptiste\\anaconda3\\envs\\sat_env\\lib\\site-packages\\pyproj\\crs\\crs.py:1282: UserWarning: You will likely lose important projection information when converting to a PROJ string from another format. See: https://proj.org/faq.html#what-is-the-best-format-for-describing-coordinate-reference-systems\n",
      "  proj = self._crs.to_proj4(version=version)\n",
      "c:\\Users\\Baptiste\\anaconda3\\envs\\sat_env\\lib\\site-packages\\pyproj\\crs\\crs.py:1282: UserWarning: You will likely lose important projection information when converting to a PROJ string from another format. See: https://proj.org/faq.html#what-is-the-best-format-for-describing-coordinate-reference-systems\n",
      "  proj = self._crs.to_proj4(version=version)\n",
      "c:\\Users\\Baptiste\\anaconda3\\envs\\sat_env\\lib\\site-packages\\pyproj\\crs\\crs.py:1282: UserWarning: You will likely lose important projection information when converting to a PROJ string from another format. See: https://proj.org/faq.html#what-is-the-best-format-for-describing-coordinate-reference-systems\n",
      "  proj = self._crs.to_proj4(version=version)\n",
      "c:\\Users\\Baptiste\\anaconda3\\envs\\sat_env\\lib\\site-packages\\pyproj\\crs\\crs.py:1282: UserWarning: You will likely lose important projection information when converting to a PROJ string from another format. See: https://proj.org/faq.html#what-is-the-best-format-for-describing-coordinate-reference-systems\n",
      "  proj = self._crs.to_proj4(version=version)\n"
     ]
    }
   ],
   "source": [
    "out_dir = make_directory(main_dir + r\"/rain_rate\")\n",
    "\n",
    "compute_rain_rate(index_path,out_dir,projection)"
   ]
  },
  {
   "cell_type": "markdown",
   "metadata": {},
   "source": [
    "## Agrégation des données"
   ]
  },
  {
   "cell_type": "code",
   "execution_count": 33,
   "metadata": {},
   "outputs": [],
   "source": [
    "def agregation_geotiff(index_path,out_dir,key,mode=\"mean\",compute_var=False):\n",
    "    arrays = []\n",
    "    index = get_index(index_path)\n",
    "    for d in index.keys(): # récupération des images\n",
    "        try:\n",
    "            file = File(index[d][key])\n",
    "            if file.format != Geotiff_Format:\n",
    "                print(\"le fichier doit être en format Geotiff\")\n",
    "                raise\n",
    "            img = file.getImage(1)\n",
    "            arrays.append(img.array)\n",
    "        except KeyError:\n",
    "            print(f\"le fichier correspondant à la date {d} n'a pas été trouvé pour la clé {key}\")\n",
    "    \n",
    "    lons,lats = img.lons, img.lats\n",
    "    if mode == \"mean\":\n",
    "        output = np.nanmean(np.array(arrays),axis=0)\n",
    "    else:\n",
    "        output = np.sum(np.array(arrays),axis=0)\n",
    "    img_output = Image(output, lons, lats)\n",
    "    img_output.save(projection,out_dir + rf\"/{key}_agreg.tiff\")\n",
    "    if compute_var:\n",
    "        img_output_var = img_output.computeVar()\n",
    "        img_output_var.save(projection,out_dir + rf\"/{key}_agreg_var.tiff\")\n"
   ]
  },
  {
   "cell_type": "code",
   "execution_count": 35,
   "metadata": {},
   "outputs": [
    {
     "name": "stdout",
     "output_type": "stream",
     "text": [
      "le fichier correspondant à la date 2020-12-01T20:00:00.000000+0000 n'a pas été trouvé pour la clé rain_rate\n"
     ]
    },
    {
     "name": "stderr",
     "output_type": "stream",
     "text": [
      "c:\\Users\\Baptiste\\anaconda3\\envs\\sat_env\\lib\\site-packages\\pyproj\\crs\\crs.py:1282: UserWarning: You will likely lose important projection information when converting to a PROJ string from another format. See: https://proj.org/faq.html#what-is-the-best-format-for-describing-coordinate-reference-systems\n",
      "  proj = self._crs.to_proj4(version=version)\n"
     ]
    }
   ],
   "source": [
    "agr_dir = make_directory(main_dir + r\"/agregation\")\n",
    "key = \"IR_087\" ; var = True\n",
    "#key = \"SSMIS_91V\" ; var = False\n",
    "key = \"rain_rate\" ; var = False\n",
    "agregation_geotiff(index_path,agr_dir,key,compute_var=var)"
   ]
  },
  {
   "cell_type": "markdown",
   "metadata": {},
   "source": [
    "## Classification\n",
    "\n",
    "Segmentation des images en entrée à partir de la méthode des K-means"
   ]
  },
  {
   "cell_type": "code",
   "execution_count": 54,
   "metadata": {},
   "outputs": [
    {
     "name": "stderr",
     "output_type": "stream",
     "text": [
      "c:\\Users\\Baptiste\\anaconda3\\envs\\sat_env\\lib\\site-packages\\pyproj\\crs\\crs.py:1282: UserWarning: You will likely lose important projection information when converting to a PROJ string from another format. See: https://proj.org/faq.html#what-is-the-best-format-for-describing-coordinate-reference-systems\n",
      "  proj = self._crs.to_proj4(version=version)\n"
     ]
    },
    {
     "data": {
      "image/png": "[encoded data removed]",
      "text/plain": [
       "<Figure size 432x288 with 1 Axes>"
      ]
     },
     "metadata": {
      "needs_background": "light"
     },
     "output_type": "display_data"
    }
   ],
   "source": [
    "seg_dir = main_dir + r\"/segmentation\"\n",
    "array_pred,centers = classification(agr_dir,seg_dir,projection,N=10,epsilon=0.001,T=100)"
   ]
  },
  {
   "cell_type": "markdown",
   "metadata": {},
   "source": [
    "## Corrélation"
   ]
  },
  {
   "cell_type": "code",
   "execution_count": 143,
   "metadata": {},
   "outputs": [],
   "source": [
    "def correl_rr_gt(   index_path,\n",
    "                    path_GT,\n",
    "                    path_metadata_GT,\n",
    "                    projection,\n",
    "                    attribute=1,\n",
    "                    key=\"rain_rate\",\n",
    "                    indice_corr=\"Pearson\",\n",
    "                    savefig=False,\n",
    "                    start_date_key=\"start_date\",\n",
    "                    end_date_key=\"end_date\",\n",
    "                    format=\"%Y-%m-%dT%H:%M:%S.%f%z\"\n",
    "                    ):\n",
    "    \"\"\"\n",
    "    Calcule la corrélation de Pearson entre les mesures prises sur le terrain et les valeurs d'une image satellite\n",
    "    \"\"\"\n",
    "    # récupération des fichiers\n",
    "    gt_dict = gt.csv2dict(path_GT)[0]\n",
    "    metadata_gt = gt.get_metadata(path_metadata_GT)\n",
    "    index = get_index(index_path)\n",
    "    # initialisation des listes contenant les données dont on va calculer la corrélation\n",
    "    estim_rain, true_rain, locations = [], [], []\n",
    "    for d in index.keys(): \n",
    "        try:\n",
    "            file = File(index[d][key])\n",
    "            img = file.project(projection,attribute)\n",
    "            start_date = datetime.strptime(index[d][start_date_key],format)\n",
    "            end_date = datetime.strptime(index[d][end_date_key],format)\n",
    "            extr_gt_dict = gt.extract(gt_dict,start_date,end_date)\n",
    "            agr_gt_dict = gt.agreg(extr_gt_dict,method=\"mean\")\n",
    "            agr_gt = np.array([agr_gt_dict[d] for d in agr_gt_dict.keys()])\n",
    "            for k in metadata_gt.keys():\n",
    "                lat, lon = float(metadata_gt[k][\"lat\"]),float(metadata_gt[k][\"lon\"])\n",
    "                lats, lons = img.lats.T[0], img.lons[0]\n",
    "                idx_lat,idx_lon = (np.abs(lats - lat)).argmin(), (np.abs(lons - lon)).argmin()\n",
    "                estimated_rain = img.array[idx_lat][idx_lon]\n",
    "                if not np.isnan(estimated_rain):\n",
    "                    true_rain.append(agr_gt[0][k-1])\n",
    "                    estim_rain.append(estimated_rain)\n",
    "                    locations.append(metadata_gt[k][\"Nom\"])\n",
    "        except KeyError:\n",
    "            print(f\"le fichier correspondant à la date {d} n'a pas été trouvé pour la clé {key}\")\n",
    "    \n",
    "    if indice_corr == \"Pearson\":\n",
    "        corr, _ = pearsonr(estim_rain, true_rain)\n",
    "    elif indice_corr == \"Spearman\":\n",
    "        corr, _ = spearmanr(estim_rain, true_rain)\n",
    "\n",
    "    \n",
    "    color_list = [\"red\",\"green\",\"blue\",\"orange\",\"yellow\",\"pink\",\"black\",\"purple\",\"beige\",\"brown\",\"gray\",\"cyan\"]\n",
    "    colors = [color_list[np.where(np.unique(locations)==loc)[0][0]] for loc in locations]\n",
    "    plt.scatter(true_rain,estim_rain,c=colors,s=60, alpha=0.8)\n",
    "    plt.title(f\"indice de corrélation de {indice_corr}: {round(corr,3)}\")\n",
    "    plt.xlabel(\"pluviommétrie moyenne sur la période d'acquisition en mm\")\n",
    "    plt.ylabel(\"température de brillance mesurée par SSMIS à 91GHz\")\n",
    "    for i in range(len(np.unique(locations))):\n",
    "        print(color_list[i],\"\\t\",np.unique(locations)[i])\n",
    "    if savefig:\n",
    "        plt.savefig(savefig, dpi=500)"
   ]
  },
  {
   "cell_type": "code",
   "execution_count": 144,
   "metadata": {},
   "outputs": [
    {
     "name": "stdout",
     "output_type": "stream",
     "text": [
      "720 lignes ont été écartées, il s'agit probablement de lignes vides\n"
     ]
    },
    {
     "name": "stderr",
     "output_type": "stream",
     "text": [
      "c:\\Users\\Baptiste\\anaconda3\\envs\\sat_env\\lib\\site-packages\\pyproj\\crs\\crs.py:1282: UserWarning: You will likely lose important projection information when converting to a PROJ string from another format. See: https://proj.org/faq.html#what-is-the-best-format-for-describing-coordinate-reference-systems\n",
      "  proj = self._crs.to_proj4(version=version)\n",
      "c:\\Users\\Baptiste\\anaconda3\\envs\\sat_env\\lib\\site-packages\\pyproj\\crs\\crs.py:1282: UserWarning: You will likely lose important projection information when converting to a PROJ string from another format. See: https://proj.org/faq.html#what-is-the-best-format-for-describing-coordinate-reference-systems\n",
      "  proj = self._crs.to_proj4(version=version)\n",
      "c:\\Users\\Baptiste\\anaconda3\\envs\\sat_env\\lib\\site-packages\\pyproj\\crs\\crs.py:1282: UserWarning: You will likely lose important projection information when converting to a PROJ string from another format. See: https://proj.org/faq.html#what-is-the-best-format-for-describing-coordinate-reference-systems\n",
      "  proj = self._crs.to_proj4(version=version)\n",
      "c:\\Users\\Baptiste\\anaconda3\\envs\\sat_env\\lib\\site-packages\\pyproj\\crs\\crs.py:1282: UserWarning: You will likely lose important projection information when converting to a PROJ string from another format. See: https://proj.org/faq.html#what-is-the-best-format-for-describing-coordinate-reference-systems\n",
      "  proj = self._crs.to_proj4(version=version)\n",
      "c:\\Users\\Baptiste\\anaconda3\\envs\\sat_env\\lib\\site-packages\\pyproj\\crs\\crs.py:1282: UserWarning: You will likely lose important projection information when converting to a PROJ string from another format. See: https://proj.org/faq.html#what-is-the-best-format-for-describing-coordinate-reference-systems\n",
      "  proj = self._crs.to_proj4(version=version)\n",
      "c:\\Users\\Baptiste\\anaconda3\\envs\\sat_env\\lib\\site-packages\\pyproj\\crs\\crs.py:1282: UserWarning: You will likely lose important projection information when converting to a PROJ string from another format. See: https://proj.org/faq.html#what-is-the-best-format-for-describing-coordinate-reference-systems\n",
      "  proj = self._crs.to_proj4(version=version)\n"
     ]
    },
    {
     "name": "stdout",
     "output_type": "stream",
     "text": [
      "red \t CAYENNE—MATOURY\n",
      "green \t ILE ROYALE\n",
      "blue \t KOUROU CSG\n",
      "orange \t KOUROU PLAGE\n",
      "yellow \t MARIPASOULA\n",
      "pink \t SAINT GEORGES\n",
      "black \t SAINT LAURENT\n"
     ]
    },
    {
     "name": "stderr",
     "output_type": "stream",
     "text": [
      "c:\\Users\\Baptiste\\anaconda3\\envs\\sat_env\\lib\\site-packages\\pyproj\\crs\\crs.py:1282: UserWarning: You will likely lose important projection information when converting to a PROJ string from another format. See: https://proj.org/faq.html#what-is-the-best-format-for-describing-coordinate-reference-systems\n",
      "  proj = self._crs.to_proj4(version=version)\n",
      "c:\\Users\\Baptiste\\anaconda3\\envs\\sat_env\\lib\\site-packages\\pyproj\\crs\\crs.py:1282: UserWarning: You will likely lose important projection information when converting to a PROJ string from another format. See: https://proj.org/faq.html#what-is-the-best-format-for-describing-coordinate-reference-systems\n",
      "  proj = self._crs.to_proj4(version=version)\n",
      "c:\\Users\\Baptiste\\anaconda3\\envs\\sat_env\\lib\\site-packages\\pyproj\\crs\\crs.py:1282: UserWarning: You will likely lose important projection information when converting to a PROJ string from another format. See: https://proj.org/faq.html#what-is-the-best-format-for-describing-coordinate-reference-systems\n",
      "  proj = self._crs.to_proj4(version=version)\n"
     ]
    },
    {
     "data": {
      "image/png": "[encoded data removed]",
      "text/plain": [
       "<Figure size 432x288 with 1 Axes>"
      ]
     },
     "metadata": {
      "needs_background": "light"
     },
     "output_type": "display_data"
    }
   ],
   "source": [
    "gt_fn = r\"../../data/pluie_sol/gg_12-20_1h.csv\"\n",
    "mtd_fn = r\"../../data/pluie_sol/gauges_guyane_metadata.csv\"\n",
    "\n",
    "proj_st_geo = r\"../../data/param_proj/param_St_Georges.json\"\n",
    "proj_st_lau = r\"../../data/param_proj/param_St_Laurent.json\"\n",
    "proj_test = r\"../../data/param_proj/test.json\"\n",
    "projection_path = projection_path\n",
    "param_proj = json.load(open(proj_st_geo, \"r\", encoding=\"utf-8\"))\n",
    "\n",
    "savefig = r\"../../rapports/images/correlation_TBMOtrop_VT_guy.png\"\n",
    "\n",
    "correl_rr_gt(   index_path,\n",
    "                gt_fn,\n",
    "                mtd_fn,\n",
    "                projection,\n",
    "                key=\"SEVIRI_IR_108_tif\",\n",
    "                indice_corr=\"Pearson\",\n",
    "                attribute=1,\n",
    "                format=\"%Y-%m-%dT%H:%M:%S.%f%z\",\n",
    "                savefig=False\n",
    "                )\n"
   ]
  },
  {
   "cell_type": "code",
   "execution_count": 142,
   "metadata": {},
   "outputs": [],
   "source": [
    "index = get_index(index_path)\n",
    "for d in index.keys(): \n",
    "    file = File(index[d][\"SSMI_91*_src\"])\n",
    "    str_date,end_date = file.getAcqDates()\n",
    "    index[d][\"start_date\"] = datetime.strftime(str_date,format)\n",
    "    index[d][\"end_date\"] = datetime.strftime(end_date,format)\n",
    "save_index(index,index_path)"
   ]
  }
 ],
 "metadata": {
  "kernelspec": {
   "display_name": "Python 3.9.12 ('sat_env')",
   "language": "python",
   "name": "python3"
  },
  "language_info": {
   "codemirror_mode": {
    "name": "ipython",
    "version": 3
   },
   "file_extension": ".py",
   "mimetype": "text/x-python",
   "name": "python",
   "nbconvert_exporter": "python",
   "pygments_lexer": "ipython3",
   "version": "3.9.13"
  },
  "orig_nbformat": 4,
  "vscode": {
   "interpreter": {
    "hash": "79a52e5d84065f89c8195aea2272767e62fa59940dcf61368d5fc5f01a252f0b"
   }
  }
 },
 "nbformat": 4,
 "nbformat_minor": 2
}
