{
 "cells": [
  {
   "cell_type": "markdown",
   "metadata": {},
   "source": [
    "# importing libraries"
   ]
  },
  {
   "cell_type": "code",
   "execution_count": 4,
   "metadata": {},
   "outputs": [
    {
     "name": "stdout",
     "output_type": "stream",
     "text": [
      "The autoreload extension is already loaded. To reload it, use:\n",
      "  %reload_ext autoreload\n"
     ]
    }
   ],
   "source": [
    "# reloading \n",
    "%load_ext autoreload\n",
    "%autoreload 2\n",
    "\n",
    "import numpy as np\n",
    "import matplotlib.pyplot as plt\n",
    "import glob\n",
    "from datetime import datetime\n",
    "import sys\n",
    "import json\n",
    "\n",
    "\n",
    "sys.path.insert(0, r'../tools')\n",
    "from tools import get_index,save_index,make_directory\n",
    "\n",
    "sys.path.insert(0, r'../Images')\n",
    "from Image import Image\n",
    "from File import File"
   ]
  },
  {
   "cell_type": "code",
   "execution_count": 6,
   "metadata": {},
   "outputs": [],
   "source": [
    "main_dir = make_directory(r\"../../data/RACC/mai_2020\")\n",
    "index_path = main_dir + r\"/acq_dates.json\"\n",
    "\n",
    "VIIRS_dir = make_directory(r\"../../data/VIIRS_AOT\")\n",
    "S5_dir = make_directory(r\"../../data/Sentinel5_AOT\")\n",
    "\n",
    "projection_path = r\"../../data/param_proj/param_guy.json\"\n",
    "projection = json.load(open(projection_path, \"r\", encoding=\"utf-8\"))"
   ]
  },
  {
   "cell_type": "markdown",
   "metadata": {},
   "source": [
    "# Image download"
   ]
  },
  {
   "cell_type": "code",
   "execution_count": 36,
   "metadata": {},
   "outputs": [
    {
     "name": "stdout",
     "output_type": "stream",
     "text": [
      "-- 0.47433272 --\n",
      "-- -- --\n",
      "-- -- --\n",
      "-- -- --\n",
      "-- -- --\n",
      "-- -- --\n",
      "-- -- --\n",
      "0.26023164 -- 0.26023164\n"
     ]
    }
   ],
   "source": [
    "for fn in fn_list:\n",
    "    file = File(fn)\n",
    "    cay = file.getValue(4.933351,-52.310793)\n",
    "    kou = file.getValue(5.163618,-52.645549)\n",
    "    mat = file.getValue(4.848194,-52.323817)\n",
    "    print(cay,kou,mat)"
   ]
  }
 ],
 "metadata": {
  "kernelspec": {
   "display_name": "Python 3.9.13 ('sat_env')",
   "language": "python",
   "name": "python3"
  },
  "language_info": {
   "codemirror_mode": {
    "name": "ipython",
    "version": 3
   },
   "file_extension": ".py",
   "mimetype": "text/x-python",
   "name": "python",
   "nbconvert_exporter": "python",
   "pygments_lexer": "ipython3",
   "version": "3.9.13"
  },
  "vscode": {
   "interpreter": {
    "hash": "79a52e5d84065f89c8195aea2272767e62fa59940dcf61368d5fc5f01a252f0b"
   }
  }
 },
 "nbformat": 4,
 "nbformat_minor": 4
}
