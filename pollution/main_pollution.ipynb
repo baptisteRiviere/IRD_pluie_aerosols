{
 "cells": [
  {
   "cell_type": "markdown",
   "metadata": {},
   "source": [
    "# importing libraries"
   ]
  },
  {
   "cell_type": "code",
   "execution_count": 26,
   "metadata": {},
   "outputs": [
    {
     "name": "stdout",
     "output_type": "stream",
     "text": [
      "The autoreload extension is already loaded. To reload it, use:\n",
      "  %reload_ext autoreload\n"
     ]
    }
   ],
   "source": [
    "# reloading \n",
    "%load_ext autoreload\n",
    "%autoreload 2\n",
    "\n",
    "import os, shutil\n",
    "import pandas as pd\n",
    "import numpy as np\n",
    "import urllib.request as request\n",
    "from contextlib import closing\n",
    "import matplotlib.pyplot as plt\n",
    "import glob\n",
    "from datetime import datetime\n",
    "import sys\n",
    "import gzip\n",
    "import numpy.ma as ma\n",
    "import json\n",
    "\n",
    "\n",
    "sys.path.insert(0, r'../tools')\n",
    "from tools import get_index,save_index,make_directory\n",
    "\n",
    "sys.path.insert(0, r'../Images')\n",
    "from Image import Image\n",
    "from File import File"
   ]
  },
  {
   "cell_type": "code",
   "execution_count": 27,
   "metadata": {},
   "outputs": [
    {
     "name": "stdout",
     "output_type": "stream",
     "text": [
      "C:\\Users\\Baptiste\\Documents\\ENSG\\stage\\IRD_pluie_aerosols\\tools\n"
     ]
    }
   ],
   "source": [
    "os.chdir(r\"C:\\Users\\Baptiste\\Documents\\ENSG\\stage\\IRD_pluie_aerosols\\tools\")\n",
    "print(os.getcwd())\n",
    "\n",
    "main_dir = make_directory(r\"../../data/RACC/mai_2020\")\n",
    "index_path = main_dir + r\"/acq_dates.json\"\n",
    "\n",
    "AOT_dir = make_directory(r\"../../data/AOT\")\n",
    "\n",
    "projection_path = r\"../../data/param_proj/param_guy.json\"\n",
    "projection = json.load(open(projection_path, \"r\", encoding=\"utf-8\"))"
   ]
  },
  {
   "cell_type": "markdown",
   "metadata": {},
   "source": [
    "# Image download"
   ]
  },
  {
   "cell_type": "code",
   "execution_count": 37,
   "metadata": {},
   "outputs": [],
   "source": [
    "def batch_download(out_dir):\n",
    "    index = get_index(index_path)\n",
    "    filelist = []\n",
    "    \n",
    "    for d in index.keys():\n",
    "        d = datetime.strptime(d,\"%Y-%m-%dT%H:%M:%S.%f%z\")\n",
    "        d_str = datetime.strftime(d,\"%Y%m%d\")\n",
    "\n",
    "        #set url from where to download files \n",
    "        url = \"ftp://ftp.star.nesdis.noaa.gov/pub/smcd/VIIRS_Aerosol/viirs_aod_gridded/idps/snpp/edraot550/\"\n",
    "        file = f\"npp_aot550_edr_gridded_0.25_{d_str}.high.bin\"\n",
    "        gz_file = file +\".gz\"\n",
    "        link = url + d_str[:4] + \"/\" + gz_file\n",
    "        gz_file_path = fr\"{out_dir}/{gz_file}\"\n",
    "        file_path = fr\"{out_dir}/{file}\"\n",
    "        try:\n",
    "            if os.path.exists(gz_file_path):\n",
    "                print(f\"le fichier {gz_file_path} a déjà été téléchargé\")\n",
    "            else:\n",
    "                with closing(request.urlopen(link)) as r:\n",
    "                    with open(gz_file_path, 'wb') as f:\n",
    "                        # TODO Create condition of cloud cover and data availability over ROI\n",
    "                        shutil.copyfileobj(r, f)\n",
    "                        print(\"An image was found for this date : %s\"%(d_str))\n",
    "\n",
    "            with gzip.open(gz_file_path, 'rb') as f_zip:\n",
    "                with open(file_path, 'wb') as f_dez:\n",
    "                    shutil.copyfileobj(f_zip, f_dez)\n",
    "                    filelist.append(file_path)\n",
    "\n",
    "        except EOFError:\n",
    "            print(\"EOFError\")\n",
    "            pass\n",
    "    \n",
    "    return filelist"
   ]
  },
  {
   "cell_type": "code",
   "execution_count": 38,
   "metadata": {
    "scrolled": true
   },
   "outputs": [
    {
     "name": "stdout",
     "output_type": "stream",
     "text": [
      "le fichier ../../data/AOT/npp_aot550_edr_gridded_0.25_20200503.high.bin.gz a déjà été téléchargé\n",
      "le fichier ../../data/AOT/npp_aot550_edr_gridded_0.25_20200508.high.bin.gz a déjà été téléchargé\n",
      "le fichier ../../data/AOT/npp_aot550_edr_gridded_0.25_20200511.high.bin.gz a déjà été téléchargé\n",
      "le fichier ../../data/AOT/npp_aot550_edr_gridded_0.25_20200515.high.bin.gz a déjà été téléchargé\n",
      "le fichier ../../data/AOT/npp_aot550_edr_gridded_0.25_20200518.high.bin.gz a déjà été téléchargé\n",
      "le fichier ../../data/AOT/npp_aot550_edr_gridded_0.25_20200524.high.bin.gz a déjà été téléchargé\n",
      "le fichier ../../data/AOT/npp_aot550_edr_gridded_0.25_20200526.high.bin.gz a déjà été téléchargé\n",
      "le fichier ../../data/AOT/npp_aot550_edr_gridded_0.25_20200529.high.bin.gz a déjà été téléchargé\n"
     ]
    }
   ],
   "source": [
    "fn_list = batch_download(AOT_dir)"
   ]
  },
  {
   "cell_type": "code",
   "execution_count": 36,
   "metadata": {},
   "outputs": [
    {
     "name": "stdout",
     "output_type": "stream",
     "text": [
      "-- 0.47433272 --\n",
      "-- -- --\n",
      "-- -- --\n",
      "-- -- --\n",
      "-- -- --\n",
      "-- -- --\n",
      "-- -- --\n",
      "0.26023164 -- 0.26023164\n"
     ]
    }
   ],
   "source": [
    "for fn in fn_list:\n",
    "    file = File(fn)\n",
    "    cay = file.getValue(4.933351,-52.310793)\n",
    "    kou = file.getValue(5.163618,-52.645549)\n",
    "    mat = file.getValue(4.848194,-52.323817)\n",
    "    print(cay,kou,mat)"
   ]
  }
 ],
 "metadata": {
  "kernelspec": {
   "display_name": "Python 3.9.13 ('sat_env')",
   "language": "python",
   "name": "python3"
  },
  "language_info": {
   "codemirror_mode": {
    "name": "ipython",
    "version": 3
   },
   "file_extension": ".py",
   "mimetype": "text/x-python",
   "name": "python",
   "nbconvert_exporter": "python",
   "pygments_lexer": "ipython3",
   "version": "3.9.13"
  },
  "vscode": {
   "interpreter": {
    "hash": "79a52e5d84065f89c8195aea2272767e62fa59940dcf61368d5fc5f01a252f0b"
   }
  }
 },
 "nbformat": 4,
 "nbformat_minor": 4
}
